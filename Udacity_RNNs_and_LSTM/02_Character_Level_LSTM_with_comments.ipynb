{
 "cells": [
  {
   "cell_type": "markdown",
   "metadata": {},
   "source": [
    "# Character-Level LSTM in PyTorch\n",
    "\n",
    "In this notebook, I'll construct a character-level LSTM with PyTorch. The network will train character by character on some text, then generate new text character by character. As an example, I will train on Anna Karenina. **This model will be able to generate new text based on the text from the book!**\n",
    "\n",
    "This network is based off of Andrej Karpathy's [post on RNNs](http://karpathy.github.io/2015/05/21/rnn-effectiveness/) and [implementation in Torch](https://github.com/karpathy/char-rnn). Below is the general architecture of the character-wise RNN.\n",
    "\n",
    "<img src=\"assets/charseq.jpeg\" width=\"500\">"
   ]
  },
  {
   "cell_type": "markdown",
   "metadata": {},
   "source": [
    "First let's load in our required resources for data loading and model creation."
   ]
  },
  {
   "cell_type": "code",
   "execution_count": 1,
   "metadata": {},
   "outputs": [
    {
     "data": {
      "text/plain": [
       "<torch._C.Generator at 0x2c6dd747850>"
      ]
     },
     "execution_count": 1,
     "metadata": {},
     "output_type": "execute_result"
    }
   ],
   "source": [
    "import numpy as np\n",
    "from numpy import random\n",
    "import torch\n",
    "from torch import nn\n",
    "import torch.nn.functional as F\n",
    "\n",
    "## This line of code ensures the reproducibility of the code\n",
    "torch.manual_seed(42)"
   ]
  },
  {
   "cell_type": "markdown",
   "metadata": {},
   "source": [
    "## Load in Data\n",
    "\n",
    "Then, we'll load the Anna Karenina text file and convert it into integers for our network to use. "
   ]
  },
  {
   "cell_type": "code",
   "execution_count": 2,
   "metadata": {},
   "outputs": [],
   "source": [
    "# open text file and read in data as `text`\n",
    "with open('data/anna.txt', 'r') as f:\n",
    "    text = f.read()"
   ]
  },
  {
   "cell_type": "markdown",
   "metadata": {},
   "source": [
    "Let's check out the first 100 characters, make sure everything is peachy. According to the [American Book Review](http://americanbookreview.org/100bestlines.asp), this is the 6th best first line of a book ever."
   ]
  },
  {
   "cell_type": "code",
   "execution_count": 3,
   "metadata": {},
   "outputs": [
    {
     "data": {
      "text/plain": [
       "'Chapter 1\\n\\n\\nHappy families are all alike; every unhappy family is unhappy in its own\\nway.\\n\\nEverythin'"
      ]
     },
     "metadata": {},
     "output_type": "display_data"
    },
    {
     "name": "stdout",
     "output_type": "stream",
     "text": [
      "\n",
      "\n",
      "Chapter 1\n",
      "\n",
      "\n",
      "Happy families are all alike; every unhappy family is unhappy in its own\n",
      "way.\n",
      "\n",
      "Everythin\n"
     ]
    }
   ],
   "source": [
    "display(text[:100])\n",
    "print(f'\\n\\n{text[:100]}')"
   ]
  },
  {
   "cell_type": "markdown",
   "metadata": {},
   "source": [
    "### Tokenization\n",
    "\n",
    "In the cells, below, I'm creating a couple **dictionaries** to convert the characters to and from integers. Encoding the characters as integers makes it easier to use as input in the network.\n",
    "\n",
    "we have 83 characters in total and we will give them numbers from 0 to 82"
   ]
  },
  {
   "cell_type": "code",
   "execution_count": 4,
   "metadata": {},
   "outputs": [],
   "source": [
    "# encode the text and map each character to an integer and vice versa\n",
    "\n",
    "# we create two dictionaries:\n",
    "# 1. int2char, which maps integers to characters\n",
    "# 2. char2int, which maps characters to unique integers\n",
    "# We use sorted to make sure the code is reproducible\n",
    "chars = sorted(set(text))\n",
    "int2char = dict(enumerate(chars))\n",
    "char2int = {ch:ii for ii, ch in int2char.items()}\n",
    "\n",
    "# encode the text\n",
    "encoded = np.array([char2int[ch] for ch in text])"
   ]
  },
  {
   "cell_type": "markdown",
   "metadata": {},
   "source": [
    "And we can see those same characters from above, encoded as integers."
   ]
  },
  {
   "cell_type": "code",
   "execution_count": 5,
   "metadata": {},
   "outputs": [
    {
     "data": {
      "text/plain": [
       "array([31, 64, 57, 72, 76, 61, 74,  1, 16,  0,  0,  0, 36, 57, 72, 72, 81,\n",
       "        1, 62, 57, 69, 65, 68, 65, 61, 75,  1, 57, 74, 61,  1, 57, 68, 68,\n",
       "        1, 57, 68, 65, 67, 61, 26,  1, 61, 78, 61, 74, 81,  1, 77, 70, 64,\n",
       "       57, 72, 72, 81,  1, 62, 57, 69, 65, 68, 81,  1, 65, 75,  1, 77, 70,\n",
       "       64, 57, 72, 72, 81,  1, 65, 70,  1, 65, 76, 75,  1, 71, 79, 70,  0,\n",
       "       79, 57, 81, 13,  0,  0, 33, 78, 61, 74, 81, 76, 64, 65, 70])"
      ]
     },
     "execution_count": 5,
     "metadata": {},
     "output_type": "execute_result"
    }
   ],
   "source": [
    "encoded[:100]"
   ]
  },
  {
   "cell_type": "markdown",
   "metadata": {},
   "source": [
    "## Pre-processing the data\n",
    "\n",
    "As you can see in our char-RNN image above, our LSTM expects an input that is **one-hot encoded** meaning that each character is converted into an integer (via our created dictionary) and *then* converted into a column vector where only it's corresponding integer index will have the value of 1 and the rest of the vector will be filled with 0's. Since we're one-hot encoding the data, let's make a function to do that!\n"
   ]
  },
  {
   "cell_type": "code",
   "execution_count": 6,
   "metadata": {},
   "outputs": [],
   "source": [
    "## That was my initial approach which gave an error during model training\n",
    "def one_hot_encode(arr, vector_length):\n",
    "    '''\n",
    "        Note: The function will through an error if one of the elements of the array\n",
    "        is of a value equal to or greater than the vector_length\n",
    "    '''\n",
    "    \n",
    "    # Initialize the the encoded array\n",
    "    ## Notice the float32 since it's PyTorch's default dtype for the weights\n",
    "    one_hot = np.zeros((arr.size, vector_length), dtype=np.float32)\n",
    "    \n",
    "    # Fill the appropriate elements with ones\n",
    "    one_hot[np.arange(arr.size), arr.flatten()] = 1.\n",
    "    \n",
    "    # Finally reshape it to get back to the original array\n",
    "    one_hot = one_hot.reshape(*arr.shape, vector_length)\n",
    "    \n",
    "    return one_hot"
   ]
  },
  {
   "cell_type": "markdown",
   "metadata": {},
   "source": [
    "### explaining the code above\n",
    "- we create an array of a certain shape with all its values = 0\n",
    "- we change the values according to the position of the integer values of the characters to 1s like the code below"
   ]
  },
  {
   "cell_type": "code",
   "execution_count": 7,
   "metadata": {},
   "outputs": [
    {
     "name": "stdout",
     "output_type": "stream",
     "text": [
      "The full array is:\n",
      "[[ 1.  2.  3.  4.]\n",
      " [ 5.  6.  7.  8.]\n",
      " [ 9. 10. 11. 12.]\n",
      " [13. 14. 15. 16.]\n",
      " [17. 18. 19. 20.]\n",
      " [21. 22. 23. 24.]]\n",
      "\n",
      "\n",
      "Extracting specific elements from the array:\n",
      "[ 1.  7. 12.]\n",
      "\n",
      "The array after modification is:\n",
      "[[100.   2.   3.   4.]\n",
      " [  5.   6. 100.   8.]\n",
      " [  9.  10.  11. 100.]\n",
      " [ 13.  14.  15.  16.]\n",
      " [ 17.  18.  19.  20.]\n",
      " [ 21.  22.  23.  24.]]\n"
     ]
    }
   ],
   "source": [
    "## helper code to illustrate the cell above\n",
    "## here I am creating a numpy array of 6 Rows X 4 Columns\n",
    "some_array = np.arange(1, 25, dtype=np.float32).reshape(6,4)\n",
    "\n",
    "## checking the created array\n",
    "print(f'The full array is:\\n{some_array}\\n')\n",
    "\n",
    "## Now I will be choosing certain elements of the array by passing 2 lists as indices\n",
    "## The first list is the indices to the rows I am slicing\n",
    "## The second list is the indices to the columns within those rows\n",
    "## Now I will be extracting the 1, the 7 and the 12\n",
    "print(f'\\nExtracting specific elements from the array:\\n{some_array[[0,1,2], [0,2,-1]]}')\n",
    "\n",
    "## Now I will set the values above to equal 100 and print the array after this modification\n",
    "some_array[[0,1,2], [0,2,-1]] = 100\n",
    "print(f'\\nThe array after modification is:\\n{some_array}')"
   ]
  },
  {
   "cell_type": "code",
   "execution_count": 8,
   "metadata": {},
   "outputs": [
    {
     "name": "stdout",
     "output_type": "stream",
     "text": [
      "[[[[[0. 0. 0. 1. 0. 0. 0. 0.]\n",
      "    [0. 0. 0. 0. 0. 1. 0. 0.]\n",
      "    [0. 0. 0. 0. 0. 0. 0. 1.]]]]]\n",
      "\n",
      "==================================================\n",
      "\n",
      "[[[0. 0. 0. 1. 0. 0. 0. 0.]\n",
      "  [0. 0. 0. 0. 0. 1. 0. 0.]\n",
      "  [0. 0. 0. 0. 0. 0. 0. 1.]]\n",
      "\n",
      " [[0. 1. 0. 0. 0. 0. 0. 0.]\n",
      "  [0. 1. 0. 0. 0. 0. 0. 0.]\n",
      "  [0. 0. 1. 0. 0. 0. 0. 0.]]]\n"
     ]
    }
   ],
   "source": [
    "# check that the function works as expected\n",
    "test_seq = np.array([[[[3, 5, 7]]]])\n",
    "one_hot = one_hot_encode(test_seq, 8)\n",
    "\n",
    "print(one_hot)\n",
    "print('\\n' + '='*50 + '\\n')\n",
    "\n",
    "test_seq = np.array([[3, 5, 7], [1, 1, 2]])\n",
    "one_hot = one_hot_encode(test_seq, 8)\n",
    "\n",
    "print(one_hot)"
   ]
  },
  {
   "cell_type": "markdown",
   "metadata": {},
   "source": [
    "We can see our `one_hot_encode` function is returing the predicted output with the proper dimensions\n",
    "\n",
    "---\n",
    "## Making training mini-batches\n",
    "\n",
    "\n",
    "To train on this data, we also want to create mini-batches for training. Remember that we want our batches to be multiple sequences of some desired number of sequence steps. Considering a simple example, our batches would look like this:\n",
    "\n",
    "<img src=\"assets/sequence_batching@1x.png\" width=500px>\n",
    "\n",
    "\n",
    "<br>\n",
    "\n",
    "In this example, we'll take the encoded characters (passed in as the `arr` parameter) and split them into multiple sequences, given by `batch_size`. Each of our sequences will be `seq_length` long.\n",
    "\n",
    "### Creating Batches\n",
    "\n",
    "**1. The first thing we need to do is discard some of the text so we only have completely full mini-batches. **\n",
    "\n",
    "Each batch contains $N \\times M$ characters, where $N$ is the batch size (the number of sequences in a batch) and $M$ is the seq_length or number of time steps in a sequence. Then, to get the total number of batches, $K$, that we can make from the array `arr`, you divide the length of `arr` by the number of characters per batch. Once you know the number of batches, you can get the total number of characters to keep from `arr`, $N * M * K$.\n",
    "\n",
    "**2. After that, we need to split `arr` into $N$ batches. ** \n",
    "\n",
    "You can do this using `arr.reshape(size)` where `size` is a tuple containing the dimensions sizes of the reshaped array. We know we want $N$ sequences in a batch, so let's make that the size of the first dimension. For the second dimension, you can use `-1` as a placeholder in the size, it'll fill up the array with the appropriate data for you. After this, you should have an array that is $N \\times (M * K)$.\n",
    "\n",
    "**3. Now that we have this array, we can iterate through it to get our mini-batches. **\n",
    "\n",
    "The idea is each batch is a $N \\times M$ window on the $N \\times (M * K)$ array. For each subsequent batch, the window moves over by `seq_length`. We also want to create both the input and target arrays. Remember that the targets are just the inputs shifted over by one character. The way I like to do this window is use `range` to take steps of size `n_steps` from $0$ to `arr.shape[1]`, the total number of tokens in each sequence. That way, the integers you get from `range` always point to the start of a batch, and each window is `seq_length` wide.\n",
    "\n",
    "> **TODO:** Write the code for creating batches in the function below. The exercises in this notebook _will not be easy_. I've provided a notebook with solutions alongside this notebook. If you get stuck, checkout the solutions. The most important thing is that you don't copy and paste the code into here, **type out the solution code yourself.**"
   ]
  },
  {
   "cell_type": "markdown",
   "metadata": {},
   "source": [
    "#### hints:\n",
    "- **N** = batch size = the number of sequences in the batch\n",
    "- **M** = the full sequence length\n",
    "- **K** = the number of batches\n",
    "\n",
    "after understanding the steps above, we will split our data into a number of batches, these batches will be an integer and any remaining characters will be dropped, so once we have **N** batches in total, we will feed them to the model with **sequence length** a time, that is not the full sequence length which is the total number of characters at each batch, it's just the number of characters that are fed to the network per time, so the window for our characters will be of **number of rows = batch size** and **number of columns = sequence length**\n",
    "\n",
    "- each sequence will be fed to the model 1 mini sequence length a time\n",
    "- the batch size is not the same as the number of batches"
   ]
  },
  {
   "cell_type": "code",
   "execution_count": 9,
   "metadata": {},
   "outputs": [],
   "source": [
    "def get_batches(arr, batch_size, seq_length, print_n_seq=False):\n",
    "    '''Create a generator that returns batches of size\n",
    "       batch_size x seq_length from arr.\n",
    "       \n",
    "       Arguments\n",
    "       ---------\n",
    "       arr: Array you want to make batches from\n",
    "       batch_size: Batch size, the number of sequences per batch\n",
    "       seq_length: Number of encoded chars in a sequence\n",
    "    '''\n",
    "    seq_window_size = batch_size * seq_length\n",
    "    \n",
    "    ## TODO: Get the number of batched sequences we can make\n",
    "    n_seq = int(arr.size / seq_window_size)\n",
    "    \n",
    "    if print_n_seq:\n",
    "        print(f'The inputs will result in {n_seq} sequences')\n",
    "    \n",
    "    ## TODO: Keep only enough characters to make full batches\n",
    "    arr = arr[:n_seq * seq_window_size]\n",
    "    \n",
    "    ## TODO: Reshape into batch_size rows\n",
    "    ## This returns a 2d Array\n",
    "    arr = arr.reshape(batch_size, -1)\n",
    "    \n",
    "    ## TODO: Iterate over the batches using a window of size seq_length\n",
    "    for n in range(0, arr.shape[1], seq_length):\n",
    "        # The features\n",
    "        x = arr[:, n:n+seq_length]\n",
    "        # The targets, shifted by one\n",
    "        y = np.zeros_like(x)\n",
    "        y[:, :-1] = x[:, 1:]\n",
    "        try:\n",
    "            y[:, -1] = arr[:, n+seq_length]\n",
    "        except IndexError:\n",
    "            y[:, -1] = arr[:, 0]\n",
    "        yield x, y"
   ]
  },
  {
   "cell_type": "markdown",
   "metadata": {},
   "source": [
    "### Test Your Implementation\n",
    "\n",
    "Now I'll make some data sets and we can check out what's going on as we batch data. Here, as an example, I'm going to use a batch size of 8 and 50 sequence steps."
   ]
  },
  {
   "cell_type": "code",
   "execution_count": 10,
   "metadata": {},
   "outputs": [
    {
     "name": "stdout",
     "output_type": "stream",
     "text": [
      "The inputs will result in 4963 sequences\n"
     ]
    }
   ],
   "source": [
    "batches = get_batches(encoded, 8, 50, True)\n",
    "x, y = next(batches)"
   ]
  },
  {
   "cell_type": "code",
   "execution_count": 11,
   "metadata": {},
   "outputs": [
    {
     "name": "stdout",
     "output_type": "stream",
     "text": [
      "x\n",
      " [[31 64 57 72 76 61 74  1 16  0]\n",
      " [75 71 70  1 76 64 57 76  1 57]\n",
      " [61 70 60  1 71 74  1 57  1 62]\n",
      " [75  1 76 64 61  1 59 64 65 61]\n",
      " [ 1 75 57 79  1 64 61 74  1 76]\n",
      " [59 77 75 75 65 71 70  1 57 70]\n",
      " [ 1 29 70 70 57  1 64 57 60  1]\n",
      " [43 58 68 71 70 75 67 81 13  1]]\n",
      "\n",
      "y\n",
      " [[64 57 72 76 61 74  1 16  0  0]\n",
      " [71 70  1 76 64 57 76  1 57 76]\n",
      " [70 60  1 71 74  1 57  1 62 71]\n",
      " [ 1 76 64 61  1 59 64 65 61 62]\n",
      " [75 57 79  1 64 61 74  1 76 61]\n",
      " [77 75 75 65 71 70  1 57 70 60]\n",
      " [29 70 70 57  1 64 57 60  1 75]\n",
      " [58 68 71 70 75 67 81 13  1  3]]\n"
     ]
    }
   ],
   "source": [
    "# printing out the first 10 items in a sequence\n",
    "print('x\\n', x[:10, :10])\n",
    "print('\\ny\\n', y[:10, :10])"
   ]
  },
  {
   "cell_type": "markdown",
   "metadata": {},
   "source": [
    "If you implemented `get_batches` correctly, the above output should look something like \n",
    "```\n",
    "x\n",
    " [[25  8 60 11 45 27 28 73  1  2]\n",
    " [17  7 20 73 45  8 60 45 73 60]\n",
    " [27 20 80 73  7 28 73 60 73 65]\n",
    " [17 73 45  8 27 73 66  8 46 27]\n",
    " [73 17 60 12 73  8 27 28 73 45]\n",
    " [66 64 17 17 46  7 20 73 60 20]\n",
    " [73 76 20 20 60 73  8 60 80 73]\n",
    " [47 35 43  7 20 17 24 50 37 73]]\n",
    "\n",
    "y\n",
    " [[ 8 60 11 45 27 28 73  1  2  2]\n",
    " [ 7 20 73 45  8 60 45 73 60 45]\n",
    " [20 80 73  7 28 73 60 73 65  7]\n",
    " [73 45  8 27 73 66  8 46 27 65]\n",
    " [17 60 12 73  8 27 28 73 45 27]\n",
    " [64 17 17 46  7 20 73 60 20 80]\n",
    " [76 20 20 60 73  8 60 80 73 17]\n",
    " [35 43  7 20 17 24 50 37 73 36]]\n",
    " ```\n",
    " although the exact numbers may be different. Check to make sure the data is shifted over one step for `y`."
   ]
  },
  {
   "cell_type": "code",
   "execution_count": 12,
   "metadata": {},
   "outputs": [
    {
     "name": "stdout",
     "output_type": "stream",
     "text": [
      "Chapter 1\n",
      "\n",
      "\n",
      "Happy families are all alike; every un\n",
      "============================================================\n",
      "son that attracted her attention was her husband. \n",
      "============================================================\n",
      "end or a foe, he avoided his father. He\n",
      "looked rou\n",
      "============================================================\n",
      "s the chief though hidden\n",
      "interest of his life, of\n",
      "============================================================\n",
      " saw her tear-stained, pitiful, sweet face,\n",
      "misera\n",
      "============================================================\n",
      "cussion and analysis, was in principle disagreeabl\n",
      "============================================================\n",
      " Anna had said that Dolly would excuse it. And thi\n",
      "============================================================\n",
      "Oblonsky. \"But _they_ cannot grasp that,\n",
      "_they_ ar\n",
      "============================================================\n"
     ]
    }
   ],
   "source": [
    "## checking if the above encoded values make sense\n",
    "for seq in x:\n",
    "    print(''.join([int2char[char] for char in seq]))\n",
    "    print('='*60)"
   ]
  },
  {
   "cell_type": "code",
   "execution_count": 13,
   "metadata": {},
   "outputs": [
    {
     "name": "stdout",
     "output_type": "stream",
     "text": [
      "s the train stopped and she got out, the first\n",
      "per\n",
      "============================================================\n",
      "ion had occurred to\n",
      "him whether Vronsky were a fri\n",
      "============================================================\n",
      "service\n",
      "or not brought him to the other and perhap\n",
      "============================================================\n",
      "r house before the theater,\n",
      "went into her room and\n",
      "============================================================\n",
      "erpretations, just because it paved the way\n",
      "to dis\n",
      "============================================================\n",
      "hamber Vronsky had suggested, but the\n",
      "one of which\n",
      "============================================================\n",
      " equally,\" he said,\n",
      "looking over his pince-nez at \n",
      "============================================================\n",
      ", and how to\n",
      "subscribe to our email newsletter to \n",
      "============================================================\n"
     ]
    }
   ],
   "source": [
    "## checking the last sequence in the batches\n",
    "for seq in range(4963-1):\n",
    "    x, y = next(batches)\n",
    "\n",
    "for seq in x:\n",
    "    print(''.join([int2char[char] for char in seq]))\n",
    "    print('='*60)"
   ]
  },
  {
   "cell_type": "code",
   "execution_count": 14,
   "metadata": {},
   "outputs": [
    {
     "name": "stdout",
     "output_type": "stream",
     "text": [
      " the train stopped and she got out, the first\n",
      "perC\n",
      "============================================================\n",
      "on had occurred to\n",
      "him whether Vronsky were a fris\n",
      "============================================================\n",
      "ervice\n",
      "or not brought him to the other and perhape\n",
      "============================================================\n",
      " house before the theater,\n",
      "went into her room ands\n",
      "============================================================\n",
      "rpretations, just because it paved the way\n",
      "to dis \n",
      "============================================================\n",
      "amber Vronsky had suggested, but the\n",
      "one of whichc\n",
      "============================================================\n",
      "equally,\" he said,\n",
      "looking over his pince-nez at  \n",
      "============================================================\n",
      " and how to\n",
      "subscribe to our email newsletter to O\n",
      "============================================================\n"
     ]
    }
   ],
   "source": [
    "for seq in y:\n",
    "    print(''.join([int2char[char] for char in seq]))\n",
    "    print('='*60)"
   ]
  },
  {
   "cell_type": "code",
   "execution_count": 15,
   "metadata": {},
   "outputs": [],
   "source": [
    "## Modifying the function above regarding the last character of the last batch of sequences\n",
    "\n",
    "def get_batches(arr, batch_size, seq_length, print_n_seq=False):\n",
    "    '''Create a generator that returns batches of size\n",
    "       batch_size x seq_length from arr.\n",
    "       \n",
    "       Arguments\n",
    "       ---------\n",
    "       arr: Array you want to make batches from\n",
    "       batch_size: Batch size, the number of sequences per batch\n",
    "       seq_length: Number of encoded chars in a sequence\n",
    "    '''\n",
    "    seq_window_size = batch_size * seq_length\n",
    "    \n",
    "    ## TODO: Get the number of batched sequences we can make\n",
    "    n_seq = int(arr.size / seq_window_size)\n",
    "    \n",
    "    if print_n_seq:\n",
    "        print(f'The inputs will result in {n_seq} sequences')\n",
    "    \n",
    "    ## TODO: Keep only enough characters to make full batches\n",
    "    arr = arr[:n_seq * seq_window_size]\n",
    "    \n",
    "    ## TODO: Reshape into batch_size rows\n",
    "    ## This returns a 2d Array\n",
    "    arr = arr.reshape(batch_size, -1)\n",
    "    \n",
    "    ## TODO: Iterate over the batches using a window of size seq_length\n",
    "    for n in range(0, arr.shape[1], seq_length):\n",
    "        # The features\n",
    "        x = arr[:, n:n+seq_length]\n",
    "        # The targets, shifted by one\n",
    "        y = np.zeros_like(x)\n",
    "        y[:, :-1] = x[:, 1:]\n",
    "        try:\n",
    "            y[:, -1] = arr[:, n+seq_length]\n",
    "        except IndexError:\n",
    "            y[:-1, -1] = arr[1:, 0]\n",
    "            y[-1, -1] = arr[0, 0]\n",
    "        yield x, y"
   ]
  },
  {
   "cell_type": "code",
   "execution_count": 16,
   "metadata": {},
   "outputs": [
    {
     "name": "stdout",
     "output_type": "stream",
     "text": [
      "The inputs will result in 4963 sequences\n",
      "Chapter 1\n",
      "\n",
      "\n",
      "Happy families are all alike; every un\n",
      "============================================================\n",
      "son that attracted her attention was her husband. \n",
      "============================================================\n",
      "end or a foe, he avoided his father. He\n",
      "looked rou\n",
      "============================================================\n",
      "s the chief though hidden\n",
      "interest of his life, of\n",
      "============================================================\n",
      " saw her tear-stained, pitiful, sweet face,\n",
      "misera\n",
      "============================================================\n",
      "cussion and analysis, was in principle disagreeabl\n",
      "============================================================\n",
      " Anna had said that Dolly would excuse it. And thi\n",
      "============================================================\n",
      "Oblonsky. \"But _they_ cannot grasp that,\n",
      "_they_ ar\n",
      "============================================================\n"
     ]
    }
   ],
   "source": [
    "batches = get_batches(encoded, 8, 50, True)\n",
    "x, y = next(batches)\n",
    "\n",
    "for seq in x:\n",
    "    print(''.join([int2char[char] for char in seq]))\n",
    "    print('='*60)"
   ]
  },
  {
   "cell_type": "code",
   "execution_count": 17,
   "metadata": {},
   "outputs": [
    {
     "name": "stdout",
     "output_type": "stream",
     "text": [
      " the train stopped and she got out, the first\n",
      "pers\n",
      "============================================================\n",
      "on had occurred to\n",
      "him whether Vronsky were a frie\n",
      "============================================================\n",
      "ervice\n",
      "or not brought him to the other and perhaps\n",
      "============================================================\n",
      " house before the theater,\n",
      "went into her room and \n",
      "============================================================\n",
      "rpretations, just because it paved the way\n",
      "to disc\n",
      "============================================================\n",
      "amber Vronsky had suggested, but the\n",
      "one of which \n",
      "============================================================\n",
      "equally,\" he said,\n",
      "looking over his pince-nez at O\n",
      "============================================================\n",
      " and how to\n",
      "subscribe to our email newsletter to C\n",
      "============================================================\n"
     ]
    }
   ],
   "source": [
    "## checking the last sequence in the batches\n",
    "\n",
    "for seq in range(4963-1):\n",
    "    x, y = next(batches)\n",
    "\n",
    "for seq in y:\n",
    "    print(''.join([int2char[char] for char in seq]))\n",
    "    print('='*60)"
   ]
  },
  {
   "cell_type": "markdown",
   "metadata": {},
   "source": [
    "---\n",
    "## Defining the network with PyTorch\n",
    "\n",
    "Below is where you'll define the network.\n",
    "\n",
    "<img src=\"assets/charRNN.png\" width=500px>\n",
    "\n",
    "Next, you'll use PyTorch to define the architecture of the network. We start by defining the layers and operations we want. Then, define a method for the forward pass. You've also been given a method for predicting characters."
   ]
  },
  {
   "cell_type": "markdown",
   "metadata": {},
   "source": [
    "### Model Structure\n",
    "\n",
    "In `__init__` the suggested structure is as follows:\n",
    "* Create and store the necessary dictionaries (this has been done for you)\n",
    "* Define an LSTM layer that takes as params: an input size (the number of characters), a hidden layer size `n_hidden`, a number of layers `n_layers`, a dropout probability `drop_prob`, and a batch_first boolean (True, since we are batching)\n",
    "* Define a dropout layer with `drop_prob`\n",
    "* Define a fully-connected layer with params: input size `n_hidden` and output size (the number of characters)\n",
    "* Finally, initialize the weights (again, this has been given)\n",
    "\n",
    "Note that some parameters have been named and given in the `__init__` function, and we use them and store them by doing something like `self.drop_prob = drop_prob`."
   ]
  },
  {
   "cell_type": "markdown",
   "metadata": {},
   "source": [
    "---\n",
    "### LSTM Inputs/Outputs\n",
    "\n",
    "You can create a basic [LSTM layer](https://pytorch.org/docs/stable/nn.html#lstm) as follows\n",
    "\n",
    "```python\n",
    "self.lstm = nn.LSTM(input_size, n_hidden, n_layers, \n",
    "                            dropout=drop_prob, batch_first=True)\n",
    "```\n",
    "\n",
    "where `input_size` is the number of characters this cell expects to see as sequential input, and `n_hidden` is the number of units in the hidden layers in the cell. And we can add dropout by adding a dropout parameter with a specified probability; this will automatically add dropout to the inputs or outputs. Finally, in the `forward` function, we can stack up the LSTM cells into layers using `.view`. With this, you pass in a list of cells and it will send the output of one cell into the next cell.\n",
    "\n",
    "We also need to create an initial hidden state of all zeros. This is done like so\n",
    "\n",
    "```python\n",
    "self.init_hidden()\n",
    "```"
   ]
  },
  {
   "cell_type": "code",
   "execution_count": 18,
   "metadata": {},
   "outputs": [
    {
     "name": "stdout",
     "output_type": "stream",
     "text": [
      "Training on GPU!\n"
     ]
    }
   ],
   "source": [
    "# check if GPU is available\n",
    "train_on_gpu = torch.cuda.is_available()\n",
    "if(train_on_gpu):\n",
    "    print('Training on GPU!')\n",
    "else: \n",
    "    print('No GPU available, training on CPU; consider making n_epochs very small.')"
   ]
  },
  {
   "cell_type": "code",
   "execution_count": 19,
   "metadata": {},
   "outputs": [],
   "source": [
    "class CharRNN(nn.Module):\n",
    "    \n",
    "    def __init__(self, tokens, n_hidden=256, n_layers=2,\n",
    "                 drop_prob=0.5, lr=0.001):\n",
    "        super().__init__()\n",
    "        self.drop_prob = drop_prob\n",
    "        self.n_layers = n_layers\n",
    "        self.n_hidden = n_hidden\n",
    "        self.lr = lr\n",
    "        \n",
    "        # creating character dictionaries\n",
    "        self.chars = tokens\n",
    "        self.int2char = dict(enumerate(self.chars))\n",
    "        self.char2int = {ch:ii for ii, ch in self.int2char.items()}\n",
    "        \n",
    "        ## TODO: define the layers of the model\n",
    "        \n",
    "        ## define the lstm layer\n",
    "        self.lstm = nn.LSTM(\n",
    "            input_size=len(tokens), hidden_size =n_hidden,\n",
    "            num_layers =n_layers, dropout=drop_prob, batch_first=True\n",
    "        )\n",
    "        ## explaining the variables above on creating the LSTM\n",
    "        ### the first argument = input size\n",
    "        ### We are still feeding the network one input value per time step\n",
    "        ### However, the inputs are in the form of one hot encoded vectors\n",
    "        ### of length = the number of characters and that's why our input\n",
    "        ### size is not 1 like the RNN example but the number of the characters        \n",
    "        \n",
    "        ## define the dropout layer\n",
    "        ### I am commenting the line below as I won't drop out between the\n",
    "        ### LSTM output and the fully connected layer\n",
    "        #self.dropout = nn.Dropout(p=drop_prob)\n",
    "        \n",
    "        ## define a fully connected layer\n",
    "        self.fc = nn.Linear(n_hidden, len(tokens))\n",
    "        ### The number of the outputs of the fully connected layer\n",
    "        ### equals to the length of the one hot encoded vector with\n",
    "        ### class scores for each possible character\n",
    "    \n",
    "    def forward(self, x, hidden):\n",
    "        '''\n",
    "        Forward pass through the network. \n",
    "        These inputs are x, and the hidden/cell state `hidden`.\n",
    "        '''\n",
    "                \n",
    "        ## TODO: Get the outputs and the new hidden state from the lstm\n",
    "        ## r_output stands for the recurrent output\n",
    "        r_output, hidden = self.lstm(x, hidden)\n",
    "        \n",
    "        ## TODO: pass through a dropout layer\n",
    "        #out = self.dropout(r_output)\n",
    "        \n",
    "        ################################################################\n",
    "        ## r_output has a shape of batch_size X seq length X n_hidden ##\n",
    "        ################################################################\n",
    "        \n",
    "        # Stack up LSTM outputs using view\n",
    "        # you may need to use contiguous to reshape the output\n",
    "        out = r_output.contiguous().view(-1, self.n_hidden)\n",
    "        \n",
    "        ## TODO: put x through the fully-connected layer\n",
    "        out = self.fc(out)\n",
    "        \n",
    "        # return the final output and the hidden state\n",
    "        return out, hidden\n",
    "    \n",
    "    \n",
    "    def init_hidden(self, batch_size):\n",
    "        ''' Initializes hidden state '''\n",
    "        # Create two new tensors with sizes n_layers x batch_size x n_hidden,\n",
    "        # initialized to zero, for hidden state and cell state of LSTM\n",
    "        weight = next(self.parameters()).data\n",
    "        \n",
    "        if (train_on_gpu):\n",
    "            hidden = (\n",
    "                weight.new(\n",
    "                    self.n_layers, batch_size, self.n_hidden).zero_().cuda(),\n",
    "                weight.new(\n",
    "                    self.n_layers, batch_size, self.n_hidden).zero_().cuda()\n",
    "            )\n",
    "        else:\n",
    "            hidden = (\n",
    "                weight.new(self.n_layers, batch_size, self.n_hidden).zero_(),\n",
    "                weight.new(self.n_layers, batch_size, self.n_hidden).zero_()\n",
    "            )\n",
    "        \n",
    "        return hidden"
   ]
  },
  {
   "cell_type": "markdown",
   "metadata": {},
   "source": [
    "## Time to train\n",
    "\n",
    "The train function gives us the ability to set the number of epochs, the learning rate, and other parameters.\n",
    "\n",
    "Below we're using an Adam optimizer and cross entropy loss since we are looking at character class scores as output. We calculate the loss and perform backpropagation, as usual!\n",
    "\n",
    "A couple of details about training: \n",
    ">* Within the batch loop, we detach the hidden state from its history; this time setting it equal to a new *tuple* variable because an LSTM has a hidden state that is a tuple of the hidden and cell states.\n",
    "* We use [`clip_grad_norm_`](https://pytorch.org/docs/stable/_modules/torch/nn/utils/clip_grad.html) to help prevent exploding gradients."
   ]
  },
  {
   "cell_type": "code",
   "execution_count": 20,
   "metadata": {},
   "outputs": [],
   "source": [
    "def train(net, data, epochs=10, batch_size=10, seq_length=50,\n",
    "          lr=0.001, clip=5, val_frac=0.1, print_every=10):\n",
    "    ''' \n",
    "    Training a network \n",
    "    \n",
    "        Arguments\n",
    "        ---------\n",
    "        \n",
    "        net: CharRNN network\n",
    "        data: text data to train the network\n",
    "        epochs: Number of epochs to train\n",
    "        batch_size: Number of mini-sequences per batch\n",
    "        seq_length: Number of characters per mini-sequence\n",
    "        lr: learning rate\n",
    "        clip: gradient clipping\n",
    "        val_frac: Fraction of data to hold out for validation\n",
    "        print_every: Number of steps for printing training and validation loss\n",
    "    '''\n",
    "    \n",
    "    ## setting an initial validation loss for early stopping\n",
    "    valid_loss_min = np.Inf\n",
    "    \n",
    "    ## putting the network on train mode\n",
    "    net.train()\n",
    "    \n",
    "    ## moving the network to the GPU is a supported GPU is available\n",
    "    if(train_on_gpu):\n",
    "        net.cuda()\n",
    "    \n",
    "    ## setting the optimizer and the criterion\n",
    "    opt = torch.optim.Adam(net.parameters(), lr=lr)\n",
    "    criterion = nn.CrossEntropyLoss()\n",
    "    \n",
    "    # create training and validation data\n",
    "    val_idx = int(len(data)*(1-val_frac))\n",
    "    data, val_data = data[:val_idx], data[val_idx:]\n",
    "    \n",
    "    counter = 0\n",
    "    early_stop_counter = 0\n",
    "    n_chars = len(net.chars)\n",
    "    \n",
    "    for epoch in range(epochs):\n",
    "        # initialize hidden state\n",
    "        ## we can either use an if statement to initiate h once per training\n",
    "        ## or we can remove the if statement and initiate h each epoch\n",
    "        h = net.init_hidden(batch_size)\n",
    "        \n",
    "        for x, y in get_batches(data, batch_size, seq_length):\n",
    "            counter += 1\n",
    "            \n",
    "            # One-hot encode our data and make them Torch tensors\n",
    "            x = one_hot_encode(x, n_chars)\n",
    "            inputs, targets = torch.from_numpy(x), torch.from_numpy(y)\n",
    "            \n",
    "            ## moving the data to the GPU is a supported GPU is available\n",
    "            if(train_on_gpu):\n",
    "                inputs, targets = inputs.cuda(), targets.cuda()\n",
    "\n",
    "            # Creating new variables for the hidden state, otherwise\n",
    "            # we'd backprop through the entire training history\n",
    "            h = tuple([each.data for each in h])\n",
    "            \n",
    "            # zero accumulated gradients\n",
    "            opt.zero_grad()\n",
    "            \n",
    "            # get the output from the model\n",
    "            output, h = net(inputs, h)\n",
    "            \n",
    "            # calculate the loss and perform backprop\n",
    "            ## the .long converts the dtype of the tensor to long\n",
    "            ## since the nn.CrossEntropyLoss() expects dtype = torch.long\n",
    "            loss = criterion(output, targets.view(batch_size*seq_length).long())\n",
    "            loss.backward()\n",
    "            # `clip_grad_norm` helps prevent the exploding gradient problem in RNNs / LSTMs.\n",
    "            nn.utils.clip_grad_norm_(net.parameters(), clip)\n",
    "            opt.step()\n",
    "            \n",
    "            # loss stats\n",
    "            if counter % print_every == 0:\n",
    "                \n",
    "                with torch.no_grad():\n",
    "                    # Get validation loss\n",
    "                    val_h = net.init_hidden(batch_size)\n",
    "                    val_losses = []\n",
    "                    net.eval()\n",
    "                    for x, y in get_batches(val_data, batch_size, seq_length):\n",
    "                        # One-hot encode our data and make them Torch tensors\n",
    "                        x = one_hot_encode(x, n_chars)\n",
    "                        x, y = torch.from_numpy(x), torch.from_numpy(y)\n",
    "\n",
    "                        # Creating new variables for the hidden state, otherwise\n",
    "                        # we'd backpropagate through the entire training history\n",
    "                        val_h = tuple([each.data for each in val_h])\n",
    "\n",
    "                        ## Moving the data to the GPU\n",
    "                        inputs, targets = x, y\n",
    "                        if(train_on_gpu):\n",
    "                            inputs, targets = inputs.cuda(), targets.cuda()\n",
    "\n",
    "                        output, val_h = net(inputs, val_h)\n",
    "                        val_loss = criterion(output, targets.view(batch_size*seq_length).long())\n",
    "\n",
    "                        val_losses.append(val_loss.item())\n",
    "                \n",
    "                net.train() # reset to train mode after iterationg through validation data\n",
    "                \n",
    "                print(f\"Epoch: {epoch+1:2}/{epochs}...  \"\n",
    "                      f\"Step: {counter:4}...  \"\n",
    "                      f\"Loss: {loss.item():.4f}...  \"\n",
    "                      f\"Val Loss: {np.mean(val_losses):.4f}\")\n",
    "\n",
    "        # save model if validation loss has decreased\n",
    "        if val_loss <= valid_loss_min:\n",
    "            print(f'\\nValidation loss decreased ({valid_loss_min:.4f} --> {val_loss:.4f})'\n",
    "                  '. Saving model...\\n')\n",
    "            best_model_params = net.state_dict()\n",
    "            torch.save(best_model_params, './checkpoints/model_status.pt')\n",
    "            valid_loss_min = val_loss\n",
    "            early_stop_counter = 0\n",
    "        else:\n",
    "            early_stop_counter += 1\n",
    "            print()\n",
    "        \n",
    "        ## Early stopping the training:\n",
    "        if early_stop_counter == 5:\n",
    "            print('The model is no longer improving so stopping the training process')\n",
    "            break\n",
    "    \n",
    "    return best_model_params"
   ]
  },
  {
   "cell_type": "markdown",
   "metadata": {},
   "source": [
    "## Instantiating the model\n",
    "\n",
    "Now we can actually train the network. First we'll create the network itself, with some given hyperparameters. Then, define the mini-batches sizes, and start training!"
   ]
  },
  {
   "cell_type": "code",
   "execution_count": 21,
   "metadata": {},
   "outputs": [
    {
     "name": "stdout",
     "output_type": "stream",
     "text": [
      "CharRNN(\n",
      "  (lstm): LSTM(83, 512, num_layers=2, batch_first=True, dropout=0.5)\n",
      "  (fc): Linear(in_features=512, out_features=83, bias=True)\n",
      ")\n"
     ]
    }
   ],
   "source": [
    "## TODO: set your model hyperparameters\n",
    "# define and print the net\n",
    "n_hidden=512\n",
    "n_layers=2\n",
    "\n",
    "net = CharRNN(chars, n_hidden, n_layers)\n",
    "print(net)"
   ]
  },
  {
   "cell_type": "markdown",
   "metadata": {},
   "source": [
    "### Set your training hyperparameters!"
   ]
  },
  {
   "cell_type": "code",
   "execution_count": 22,
   "metadata": {
    "scrolled": true
   },
   "outputs": [
    {
     "name": "stdout",
     "output_type": "stream",
     "text": [
      "Epoch:  1/20...  Step:   25...  Loss: 3.1128...  Val Loss: 3.1011\n",
      "Epoch:  1/20...  Step:   50...  Loss: 3.1082...  Val Loss: 3.0957\n",
      "\n",
      "Validation loss decreased (inf --> 3.0883). Saving model...\n",
      "\n",
      "Epoch:  2/20...  Step:   75...  Loss: 3.1033...  Val Loss: 3.0924\n",
      "Epoch:  2/20...  Step:  100...  Loss: 3.0995...  Val Loss: 3.0847\n",
      "Epoch:  2/20...  Step:  125...  Loss: 3.0427...  Val Loss: 3.0202\n",
      "\n",
      "Validation loss decreased (3.0883 --> 3.0139). Saving model...\n",
      "\n",
      "Epoch:  3/20...  Step:  150...  Loss: 2.8439...  Val Loss: 2.8314\n",
      "Epoch:  3/20...  Step:  175...  Loss: 2.6944...  Val Loss: 2.6522\n",
      "Epoch:  3/20...  Step:  200...  Loss: 2.5317...  Val Loss: 2.4774\n",
      "\n",
      "Validation loss decreased (3.0139 --> 2.4746). Saving model...\n",
      "\n",
      "Epoch:  4/20...  Step:  225...  Loss: 2.4286...  Val Loss: 2.3753\n",
      "Epoch:  4/20...  Step:  250...  Loss: 2.3602...  Val Loss: 2.3038\n",
      "Epoch:  4/20...  Step:  275...  Loss: 2.2627...  Val Loss: 2.2253\n",
      "\n",
      "Validation loss decreased (2.4746 --> 2.2273). Saving model...\n",
      "\n",
      "Epoch:  5/20...  Step:  300...  Loss: 2.1826...  Val Loss: 2.1525\n",
      "Epoch:  5/20...  Step:  325...  Loss: 2.1303...  Val Loss: 2.0915\n",
      "\n",
      "Validation loss decreased (2.2273 --> 2.0979). Saving model...\n",
      "\n",
      "Epoch:  6/20...  Step:  350...  Loss: 2.0762...  Val Loss: 2.0353\n",
      "Epoch:  6/20...  Step:  375...  Loss: 2.0204...  Val Loss: 1.9772\n",
      "Epoch:  6/20...  Step:  400...  Loss: 1.9663...  Val Loss: 1.9334\n",
      "\n",
      "Validation loss decreased (2.0979 --> 1.9425). Saving model...\n",
      "\n",
      "Epoch:  7/20...  Step:  425...  Loss: 1.9188...  Val Loss: 1.8858\n",
      "Epoch:  7/20...  Step:  450...  Loss: 1.8592...  Val Loss: 1.8355\n",
      "Epoch:  7/20...  Step:  475...  Loss: 1.8349...  Val Loss: 1.7973\n",
      "\n",
      "Validation loss decreased (1.9425 --> 1.8060). Saving model...\n",
      "\n",
      "Epoch:  8/20...  Step:  500...  Loss: 1.7916...  Val Loss: 1.7717\n",
      "Epoch:  8/20...  Step:  525...  Loss: 1.7708...  Val Loss: 1.7345\n",
      "Epoch:  8/20...  Step:  550...  Loss: 1.7366...  Val Loss: 1.7181\n",
      "\n",
      "Validation loss decreased (1.8060 --> 1.7235). Saving model...\n",
      "\n",
      "Epoch:  9/20...  Step:  575...  Loss: 1.6937...  Val Loss: 1.6828\n",
      "Epoch:  9/20...  Step:  600...  Loss: 1.6809...  Val Loss: 1.6620\n",
      "\n",
      "Validation loss decreased (1.7235 --> 1.6659). Saving model...\n",
      "\n",
      "Epoch: 10/20...  Step:  625...  Loss: 1.6523...  Val Loss: 1.6402\n",
      "Epoch: 10/20...  Step:  650...  Loss: 1.6312...  Val Loss: 1.6163\n",
      "Epoch: 10/20...  Step:  675...  Loss: 1.6261...  Val Loss: 1.5975\n",
      "\n",
      "Validation loss decreased (1.6659 --> 1.5994). Saving model...\n",
      "\n",
      "Epoch: 11/20...  Step:  700...  Loss: 1.6092...  Val Loss: 1.5823\n",
      "Epoch: 11/20...  Step:  725...  Loss: 1.5929...  Val Loss: 1.5624\n",
      "Epoch: 11/20...  Step:  750...  Loss: 1.5516...  Val Loss: 1.5465\n",
      "\n",
      "Validation loss decreased (1.5994 --> 1.5467). Saving model...\n",
      "\n",
      "Epoch: 12/20...  Step:  775...  Loss: 1.5555...  Val Loss: 1.5427\n",
      "Epoch: 12/20...  Step:  800...  Loss: 1.5375...  Val Loss: 1.5166\n",
      "Epoch: 12/20...  Step:  825...  Loss: 1.5110...  Val Loss: 1.5049\n",
      "\n",
      "Validation loss decreased (1.5467 --> 1.5035). Saving model...\n",
      "\n",
      "Epoch: 13/20...  Step:  850...  Loss: 1.4899...  Val Loss: 1.4952\n",
      "Epoch: 13/20...  Step:  875...  Loss: 1.4904...  Val Loss: 1.4814\n",
      "\n",
      "Validation loss decreased (1.5035 --> 1.4789). Saving model...\n",
      "\n",
      "Epoch: 14/20...  Step:  900...  Loss: 1.4868...  Val Loss: 1.4718\n",
      "Epoch: 14/20...  Step:  925...  Loss: 1.4680...  Val Loss: 1.4588\n",
      "Epoch: 14/20...  Step:  950...  Loss: 1.4504...  Val Loss: 1.4467\n",
      "\n",
      "Validation loss decreased (1.4789 --> 1.4404). Saving model...\n",
      "\n",
      "Epoch: 15/20...  Step:  975...  Loss: 1.4438...  Val Loss: 1.4351\n",
      "Epoch: 15/20...  Step: 1000...  Loss: 1.4244...  Val Loss: 1.4244\n",
      "Epoch: 15/20...  Step: 1025...  Loss: 1.4137...  Val Loss: 1.4183\n",
      "\n",
      "Validation loss decreased (1.4404 --> 1.4115). Saving model...\n",
      "\n",
      "Epoch: 16/20...  Step: 1050...  Loss: 1.4115...  Val Loss: 1.4102\n",
      "Epoch: 16/20...  Step: 1075...  Loss: 1.3970...  Val Loss: 1.3993\n",
      "Epoch: 16/20...  Step: 1100...  Loss: 1.3811...  Val Loss: 1.3909\n",
      "\n",
      "Validation loss decreased (1.4115 --> 1.3827). Saving model...\n",
      "\n",
      "Epoch: 17/20...  Step: 1125...  Loss: 1.3520...  Val Loss: 1.3868\n",
      "Epoch: 17/20...  Step: 1150...  Loss: 1.3672...  Val Loss: 1.3749\n",
      "\n",
      "Validation loss decreased (1.3827 --> 1.3655). Saving model...\n",
      "\n",
      "Epoch: 18/20...  Step: 1175...  Loss: 1.3880...  Val Loss: 1.3731\n",
      "Epoch: 18/20...  Step: 1200...  Loss: 1.3704...  Val Loss: 1.3617\n",
      "Epoch: 18/20...  Step: 1225...  Loss: 1.3584...  Val Loss: 1.3547\n",
      "\n",
      "Validation loss decreased (1.3655 --> 1.3442). Saving model...\n",
      "\n",
      "Epoch: 19/20...  Step: 1250...  Loss: 1.3388...  Val Loss: 1.3500\n",
      "Epoch: 19/20...  Step: 1275...  Loss: 1.3474...  Val Loss: 1.3433\n",
      "Epoch: 19/20...  Step: 1300...  Loss: 1.3403...  Val Loss: 1.3377\n",
      "\n",
      "Validation loss decreased (1.3442 --> 1.3283). Saving model...\n",
      "\n",
      "Epoch: 20/20...  Step: 1325...  Loss: 1.3219...  Val Loss: 1.3322\n",
      "Epoch: 20/20...  Step: 1350...  Loss: 1.3260...  Val Loss: 1.3295\n",
      "Epoch: 20/20...  Step: 1375...  Loss: 1.3173...  Val Loss: 1.3198\n",
      "\n",
      "Validation loss decreased (1.3283 --> 1.3107). Saving model...\n",
      "\n",
      "Wall time: 3min 9s\n"
     ]
    }
   ],
   "source": [
    "%%time\n",
    "batch_size = 256\n",
    "seq_length = 100\n",
    "n_epochs = 20 # start smaller if you are just testing initial behavior\n",
    "\n",
    "# train the model\n",
    "best_model_params = train(\n",
    "    net, encoded, epochs=n_epochs, batch_size=batch_size,\n",
    "    seq_length=seq_length, lr=0.001, print_every=25)"
   ]
  },
  {
   "cell_type": "markdown",
   "metadata": {},
   "source": [
    "## Getting the best model\n",
    "\n",
    "To set your hyperparameters to get the best performance, you'll want to watch the training and validation losses. If your training loss is much lower than the validation loss, you're overfitting. Increase regularization (more dropout) or use a smaller network. If the training and validation losses are close, you're underfitting so you can increase the size of the network."
   ]
  },
  {
   "cell_type": "markdown",
   "metadata": {},
   "source": [
    "## Hyperparameters\n",
    "\n",
    "Here are the hyperparameters for the network.\n",
    "\n",
    "In defining the model:\n",
    "* `n_hidden` - The number of units in the hidden layers.\n",
    "* `n_layers` - Number of hidden LSTM layers to use.\n",
    "\n",
    "We assume that dropout probability and learning rate will be kept at the default, in this example.\n",
    "\n",
    "And in training:\n",
    "* `batch_size` - Number of sequences running through the network in one pass.\n",
    "* `seq_length` - Number of characters in the sequence the network is trained on. Larger is better typically, the network will learn more long range dependencies. But it takes longer to train. 100 is typically a good number here.\n",
    "* `lr` - Learning rate for training\n",
    "\n",
    "Here's some good advice from Andrej Karpathy on training the network. I'm going to copy it in here for your benefit, but also link to [where it originally came from](https://github.com/karpathy/char-rnn#tips-and-tricks).\n",
    "\n",
    "> ## Tips and Tricks\n",
    "\n",
    ">### Monitoring Validation Loss vs. Training Loss\n",
    ">If you're somewhat new to Machine Learning or Neural Networks it can take a bit of expertise to get good models. The most important quantity to keep track of is the difference between your training loss (printed during training) and the validation loss (printed once in a while when the RNN is run on the validation data (by default every 1000 iterations)). In particular:\n",
    "\n",
    "> - If your training loss is much lower than validation loss then this means the network might be **overfitting**. Solutions to this are to decrease your network size, or to increase dropout. For example you could try dropout of 0.5 and so on.\n",
    "> - If your training/validation loss are about equal then your model is **underfitting**. Increase the size of your model (either number of layers or the raw number of neurons per layer)\n",
    "\n",
    "> ### Approximate number of parameters\n",
    "\n",
    "> The two most important parameters that control the model are `n_hidden` and `n_layers`. I would advise that you always use `n_layers` of either 2 or 3. The `n_hidden` can be adjusted based on how much data you have. The two important quantities to keep track of here are:\n",
    "\n",
    "> - The number of parameters in your model. This is printed when you start training.\n",
    "> - The size of your dataset. 1MB file is approximately 1 million characters.\n",
    "\n",
    ">These two should be about the same order of magnitude. It's a little tricky to tell. Here are some examples:\n",
    "\n",
    "> - I have a 100MB dataset and I'm using the default parameter settings (which currently print 150K parameters). My data size is significantly larger (100 mil >> 0.15 mil), so I expect to heavily underfit. I am thinking I can comfortably afford to make `n_hidden` larger.\n",
    "> - I have a 10MB dataset and running a 10 million parameter model. I'm slightly nervous and I'm carefully monitoring my validation loss. If it's larger than my training loss then I may want to try to increase dropout a bit and see if that helps the validation loss.\n",
    "\n",
    "> ### Best models strategy\n",
    "\n",
    ">The winning strategy to obtaining very good models (if you have the compute time) is to always err on making the network larger (as large as you're willing to wait for it to compute) and then try different dropout values (between 0,1). Whatever model has the best validation performance (the loss, written in the checkpoint filename, low is good) is the one you should use in the end.\n",
    "\n",
    ">It is very common in deep learning to run many different models with many different hyperparameter settings, and in the end take whatever checkpoint gave the best validation performance.\n",
    "\n",
    ">By the way, the size of your training and validation splits are also parameters. Make sure you have a decent amount of data in your validation set or otherwise the validation performance will be noisy and not very informative."
   ]
  },
  {
   "cell_type": "markdown",
   "metadata": {},
   "source": [
    "## Checkpoint\n",
    "\n",
    "After training, we'll save the model so we can load it again later if we need too. Here I'm saving the parameters needed to create the same architecture, the hidden layer hyperparameters and the text characters."
   ]
  },
  {
   "cell_type": "code",
   "execution_count": 23,
   "metadata": {},
   "outputs": [],
   "source": [
    "# change the name, for saving multiple files\n",
    "model_name = 'rnn_20_epoch_02072022.net'\n",
    "\n",
    "checkpoint = {'n_hidden': net.n_hidden,\n",
    "              'n_layers': net.n_layers,\n",
    "              'state_dict': best_model_params,\n",
    "              'tokens': net.chars}\n",
    "\n",
    "with open(model_name, 'wb') as f:\n",
    "    torch.save(checkpoint, f)"
   ]
  },
  {
   "cell_type": "markdown",
   "metadata": {},
   "source": [
    "---\n",
    "## Making Predictions\n",
    "\n",
    "Now that the model is trained, we'll want to sample from it and make predictions about next characters! To sample, we pass in a character and have the network predict the next character. Then we take that character, pass it back in, and get another predicted character. Just keep doing this and you'll generate a bunch of text!\n",
    "\n",
    "### A note on the `predict`  function\n",
    "\n",
    "The output of our RNN is from a fully-connected layer and it outputs a **distribution of next-character scores**.\n",
    "\n",
    "> To actually get the next character, we apply a softmax function, which gives us a *probability* distribution that we can then sample to predict the next character.\n",
    "\n",
    "### Top K sampling\n",
    "\n",
    "Our predictions come from a categorical probability distribution over all the possible characters. We can make the sample text and make it more reasonable to handle (with less variables) by only considering some $K$ most probable characters. This will prevent the network from giving us completely absurd characters while allowing it to introduce some noise and randomness into the sampled text. Read more about [topk, here](https://pytorch.org/docs/stable/torch.html#torch.topk).\n"
   ]
  },
  {
   "cell_type": "code",
   "execution_count": 24,
   "metadata": {},
   "outputs": [],
   "source": [
    "def predict(net, char, h=None, top_k=1, debug=False):\n",
    "    ''' \n",
    "    Given a character, predict the next character.\n",
    "    Returns the predicted character and the hidden state.\n",
    "        \n",
    "        Arguments\n",
    "        ---------\n",
    "        \n",
    "        net: CharRNN network\n",
    "        data: text data to train the network\n",
    "        epochs: Number of epochs to train\n",
    "        batch_size: Number of mini-sequences per batch\n",
    "        seq_length: Number of characters per mini-sequence\n",
    "        lr: learning rate\n",
    "        clip: gradient clipping\n",
    "        val_frac: Fraction of data to hold out for validation\n",
    "        print_every: Number of steps for printing training and validation loss\n",
    "\n",
    "    '''\n",
    "        \n",
    "    ## converting the input from a string character to a 2d numpy array\n",
    "    x = np.array([[net.char2int[char]]])\n",
    "    if debug:\n",
    "        print(f'The encoded character value is: {x}\\n')\n",
    "    \n",
    "    ## converting the integer encoded value of the character to a one hot encoded vector\n",
    "    ## this returns a 3d numpy array\n",
    "    x = one_hot_encode(x, len(net.chars))\n",
    "    if debug:\n",
    "        print(f'The one hot encoded character value is:\\n{x}\\n')\n",
    "    \n",
    "    ## converting the one hot encoded vector to a tensor\n",
    "    inputs = torch.from_numpy(x)\n",
    "\n",
    "    ## moving the input data to the GPU if available\n",
    "    if(train_on_gpu):\n",
    "        inputs = inputs.cuda()\n",
    "\n",
    "#     # detach hidden state from history\n",
    "#     h = tuple([each.data for each in h])\n",
    "\n",
    "    ## get the predicted next character and the new hidden state from the model\n",
    "    out, h = net(inputs, h)\n",
    "    if debug:\n",
    "        print(f'The predicted outputs of the model are:\\n{out}\\n')\n",
    "    \n",
    "    ## get the character probabilities, we must use the .detach() method\n",
    "    ## or else we won't be able to convert the output tensor to a numpy array\n",
    "    p = F.softmax(out, dim=1).detach()\n",
    "    if(train_on_gpu):\n",
    "        p = p.cpu() # move to cpu\n",
    "\n",
    "    ## get the top characters, p = the probabilities arranged from the highest to the lowest\n",
    "    ## top_ch = the top characters from the most probable to the least probable\n",
    "    p, top_ch = p.topk(top_k)\n",
    "    top_ch = top_ch.numpy().squeeze()\n",
    "\n",
    "    # select the likely next character with some element of randomness\n",
    "    p = p.numpy().squeeze()\n",
    "\n",
    "    if top_k == 1:\n",
    "        ## returns the encoded integer value to the predicted character\n",
    "        char = top_ch.item()\n",
    "    else:\n",
    "        char = np.random.choice(top_ch, p=p/p.sum())\n",
    "\n",
    "    # return the encoded value of the predicted char and the hidden state\n",
    "    return net.int2char[char], h"
   ]
  },
  {
   "cell_type": "markdown",
   "metadata": {},
   "source": [
    "### Priming and generating text \n",
    "\n",
    "Typically you'll want to prime the network so you can build up a hidden state, this means you would like the network to look at a certain sequence of characters one character per time so that it builds up a memory connecting the characters forming that sequence. Otherwise the network will start out generating characters at random. In general the first bunch of characters will be a little rough since it hasn't built up a long history of characters to predict from."
   ]
  },
  {
   "cell_type": "code",
   "execution_count": 25,
   "metadata": {},
   "outputs": [],
   "source": [
    "def sample(net, size, prime='The', top_k=1):\n",
    "        \n",
    "    if(train_on_gpu):\n",
    "        net.cuda()\n",
    "    else:\n",
    "        net.cpu()\n",
    "    \n",
    "    net.eval() # eval mode\n",
    "    \n",
    "    ## convert the prime word to a list\n",
    "    chars = list(prime)\n",
    "    \n",
    "    ## initiate a hidden state before feeding the network the first character\n",
    "    ## in the prime word, we are specifying the batch_size as 1 here\n",
    "    h = net.init_hidden(1)\n",
    "    for ch in prime:\n",
    "        char, h = predict(net, ch, h, top_k=top_k)\n",
    "\n",
    "    chars.append(char)\n",
    "    \n",
    "    ## Now pass in the previous character and get a new one\n",
    "    ## Then append it to the chars list\n",
    "    for ii in range(size):\n",
    "        char, h = predict(net, chars[-1], h, top_k=top_k)\n",
    "        chars.append(char)\n",
    "\n",
    "    return ''.join(chars)"
   ]
  },
  {
   "cell_type": "code",
   "execution_count": 26,
   "metadata": {},
   "outputs": [
    {
     "name": "stdout",
     "output_type": "stream",
     "text": [
      "Anna...\n",
      "What don't talk able that they meant with\n",
      "her table, but there was, I'm set it.'\n",
      "After the first\n",
      "painty that have had tell him of it all the stats, and he was not, a money for her, but the came a crusid and close face out intimes of his hands. This\n",
      "is. The stroight wo do it only\n",
      "bust both anything. A certain of the\n",
      "country, wonders on the forget, and at her sould for a more attacking a child of it is there was not formert in this about it on\n",
      "the creater and streng, so the for that wo shall have heard in the care, and, and they was the\n",
      "sour in the strange, what was the position on the stendly for mer them of this, and was in a sing than how she would not see her and seems in what I shall have no one and happiness would not looked\n",
      "the\n",
      "streng. It was so it were a listered from the make worred.\"\n",
      "\n",
      "\"You say? Why do you think to many to\n",
      "go be doing ord it. And that is it that haste, as she said at that I'll say. By the stains that is the strange to be triff.\"\n",
      "\n",
      "\"In at the posing of an order\n"
     ]
    }
   ],
   "source": [
    "print(sample(net, 1000, prime='Anna', top_k=5))"
   ]
  },
  {
   "cell_type": "code",
   "execution_count": 27,
   "metadata": {},
   "outputs": [
    {
     "name": "stdout",
     "output_type": "stream",
     "text": [
      "Anna and the same time to him to him to him to him to him to him to him to him to him to him to him to him to him to him to him to him to him to him to him to him to him to him to him to him to him to him to him to him to him to him to him to him to him to him to him to him to him to him to him to him to him to him to him to him to him to him to him to him to him to him to him to him to him to him to him to him to him to him to him to him to him to him to him to him to him to him to him to him to him to him to him to him to him to him to him to him to him to him to him to him to him to him to him to him to him to him to him to him to him to him to him to him to him to him to him to him to him to him to him to him to him to him to him to him to him to him to him to him to him to him to him to him to him to him to him to him to him to him to him to him to him to him to him to him to him to him to him to him to him to him to him to him to him to him to him to him to him to him to him to him to\n"
     ]
    }
   ],
   "source": [
    "print(sample(net, 1000, prime='Anna', top_k=1))"
   ]
  },
  {
   "cell_type": "markdown",
   "metadata": {},
   "source": [
    "## Loading a checkpoint"
   ]
  },
  {
   "cell_type": "code",
   "execution_count": 28,
   "metadata": {},
   "outputs": [
    {
     "data": {
      "text/plain": [
       "<All keys matched successfully>"
      ]
     },
     "execution_count": 28,
     "metadata": {},
     "output_type": "execute_result"
    }
   ],
   "source": [
    "# Here we have loaded in a model that trained over 20 epochs `rnn_20_epoch.net`\n",
    "with open('rnn_20_epoch_02072022.net', 'rb') as f:\n",
    "    checkpoint = torch.load(f)\n",
    "    \n",
    "loaded = CharRNN(checkpoint['tokens'], n_hidden=checkpoint['n_hidden'], n_layers=checkpoint['n_layers'])\n",
    "loaded.load_state_dict(checkpoint['state_dict'])"
   ]
  },
  {
   "cell_type": "code",
   "execution_count": 29,
   "metadata": {},
   "outputs": [
    {
     "name": "stdout",
     "output_type": "stream",
     "text": [
      "And Levin said, and she had\n",
      "believed it, she was stricking high, the fartion was a little,\n",
      "with his\n",
      "ball of the strong of the coats and steaking or his brother than\n",
      "this was this across, and settle and wine,\n",
      "standing to\n",
      "him, that he was not set her, with his which he was clossing to the pryass, and so those shake of\n",
      "her son an old man when, too he went towards them with a\n",
      "sight whee she was not all the brind and a gray at a caper, and the\n",
      "peasants were concement.\n",
      "\n",
      "\"I'd got out of the same. Whan's it we should be so something. They're still wording a master, as I have not to\n",
      "get to heve the paintal and fastant.\"\n",
      "\n",
      "\"We arm anything to be idle,\"\n",
      "he seemed to strake into his stiden. But his words, seeing her face was not between.\n",
      "\n",
      "\"Only more face,\" said Stepan Arkadyevitch.\"\n",
      "\n",
      "\"Yes, I can't going, but that's not times. I shall see him about at her. And he's a state of there may.\"\n",
      "\n",
      "\"Not it must take to have meeting about her he too,\" answered Levin. \"How\n",
      "can't be so much as she had\n",
      "been all three to\n",
      "me of them. Thy confident will be so much from him and made a contract of a barry for the possible. What do as the common's farthing this, and taken of the serming went of this; and he'll be in a commosiciarist, and trying anything through the fact of the\n",
      "coat, and his son, with me, but\n",
      "why that is alone of the peasunt of\n",
      "things of it. He was not sing in the sing wife of a stand, where happening her head an endown, the mean was now the mare of the\n",
      "same of the sinck an interest, but I should come to take it\n",
      "way. If their wife was so so much for misince on that he would be stupped and misude on his frise. All the painful of it, and that I've come for my position, and at once man with a balls of it if that this in with a smile, better sitting of\n",
      "makes to blame it with a smalt.\"\n",
      "\n",
      "\"I coull heard it.\"\n",
      "\n",
      "\"I can't arrived in the position of my forest tide the strange.\"\n",
      "\n",
      "\"I can't be difner to be anying for you.\" He was taking to\n",
      "him.\n",
      "\n",
      "\"You\n",
      "know, I should say there, you're thing to be in spite on the fi\n"
     ]
    }
   ],
   "source": [
    "# Sample using a loaded model\n",
    "print(sample(loaded, 2000, top_k=5, prime=\"And Levin said\"))"
   ]
  },
  {
   "cell_type": "code",
   "execution_count": 30,
   "metadata": {},
   "outputs": [
    {
     "name": "stdout",
     "output_type": "stream",
     "text": [
      "And Levin said to him. He was already and he was something of the course, and he was not a long of her hands, and\n",
      "she had not the sat of the same stream with her since.\n",
      "\n",
      "\"I don't know, and I wonder to see your latter, when I say, a mistake of\n",
      "this an experiate that I was never for a like the same of the street and the\n",
      "conversation of the same thing of the strenged of the conversation of the chance of the strange of the countess of the\n",
      "country of the strange of her face on the station of the same time, who was struck at the carriage to her a smire of him, and to see them, and too was a smire of him, and the same time that the streem of the\n",
      "conversation of him and he had not the province of his face was\n",
      "standing to her.\n",
      "\n",
      "\"I don't know,\" said Stepan Arkadyevitch, and the state of the same state and straight of the convincess of the stair, which had been the person he had no deciet of his face, and she\n",
      "would have\n",
      "been a conscious the comparion of this conversation of the carriage to her a little straig was\n",
      "so much as he was a little care and the\n",
      "same time to him at his face as he was already from her heart. He fell that\n",
      "the same thing of the same strenged, and the proport of the same time of the said of the conversion of\n",
      "her sincine of the start of the\n",
      "street of the stranger to the same time of the countess as though the common and she was straight to her husband and strange the stare. And he was not to say the statien of the same that had\n",
      "been said, and the provinces were all the princess was straight, and the provers was struggle of the convinces of her face, when he\n",
      "was all the states, and the princess were to his way.\n",
      "\n",
      "And the same should not take anything with his head, and that he was standing to talk of him the same time of his hands and the contempt of the conversation of the strange of the came to his way.\n",
      "\n",
      "\"We are your said a brother's complete of the same time that is that's\n",
      "a long, thanking of\n",
      "all about the conversation. They were something of the children of the courte th\n"
     ]
    }
   ],
   "source": [
    "# Sample using a loaded model\n",
    "print(sample(loaded, 2000, top_k=2, prime=\"And Levin said\"))"
   ]
  },
  {
   "cell_type": "code",
   "execution_count": 31,
   "metadata": {},
   "outputs": [
    {
     "name": "stdout",
     "output_type": "stream",
     "text": [
      "And Levin said to him to him to him to him to him to him to him to him to him to him to him to him to him to him to him to him to him to him to him to him to him to him to him to him to him to him to him to him to him to him to him to him to him to him to him to him to him to him to him to him to him to him to him to him to him to him to him to him to him to him to him to him to him to him to him to him to him to him to him to him to him to him to him to him to him to him to him to him to him to him to him to him to him to him to him to him to him to him to him to him to him to him to him to him to him to him to him to him to him to him to him to him to him to him to him to him to him to him to him to him to him to him to him to him to him to him to him to him to him to him to him to him to him to him to him to him to him to him to him to him to him to him to him to him to him to him to him to him to him to him to him to him to him to him to him to him to him to him to him to him to him to him to him to him to him to him to him to him to him to him to him to him to him to him to him to him to him to him to him to him to him to him to him to him to him to him to him to him to him to him to him to him to him to him to him to him to him to him to him to him to him to him to him to him to him to him to him to him to him to him to him to him to him to him to him to him to him to him to him to him to him to him to him to him to him to him to him to him to him to him to him to him to him to him to him to him to him to him to him to him to him to him to him to him to him to him to him to him to him to him to him to him to him to him to him to him to him to him to him to him to him to him to him to him to him to him to him to him to him to him to him to him to him to him to him to him to him to him to him to him to him to him to him to him to him to him to him to him to him to him to him to him to him to him to him to him to him to him to him to him to him to him to him to him to him to hi\n"
     ]
    }
   ],
   "source": [
    "# Sample using a loaded model\n",
    "print(sample(loaded, 2000, top_k=1, prime=\"And Levin said\"))"
   ]
  },
  {
   "cell_type": "markdown",
   "metadata": {},
   "source": [
    "### Notes about this notebook:\n",
    "1. As we can see from the predictions above, if the network shall return only the most probable character then it might get stuck in a loop of the same characters being predicted and fed to the network. So, changing k at the **top_k** to 2 or more will give us much better predictions.\n",
    "2. We can see the model is giving logical predictions on setting **k to values between 2 to 5**, we managed to get complete words with the correct spelling, proper spacing and even some punctuation but the words themselves might not make much sense regarding the context.\n",
    "3. Another **hyperparameter** that affects the training process and doesn't make much sense is the encoded numeric value for each character. An early data preparation step at this notebook was converting each character to a numeric value **\"token\"** and then converting these tokens to one-hot encoded vectors. Such an approach shouldn't be affected by the token value as eventually all the values will be converted to a **vector of 1s and 0s**. However, when I used the **sorted** function to ensure the reproducibility of my code, the model overfitted although all the other **hyperparameters** weren't changed and the model started predicting characters that make no sense at all and almost with no spacing.\n",
    "4. To avoid the overfitting mentioned at the previous point, I reduced the number of **training epochs from 50 to 20**, the reason behind that is the log printed during training. As you can see, epoch 20 was the first epoch in which the training loss was less than the validation loss. So, we could have added another early stopping criteria to stop the training when both the training loss and validation loss are almost identical."
   ]
  }
 ],
 "metadata": {
  "kernelspec": {
   "display_name": "Python 3 (ipykernel)",
   "language": "python",
   "name": "python3"
  },
  "language_info": {
   "codemirror_mode": {
    "name": "ipython",
    "version": 3
   },
   "file_extension": ".py",
   "mimetype": "text/x-python",
   "name": "python",
   "nbconvert_exporter": "python",
   "pygments_lexer": "ipython3",
   "version": "3.8.12"
  }
 },
 "nbformat": 4,
 "nbformat_minor": 2
}
